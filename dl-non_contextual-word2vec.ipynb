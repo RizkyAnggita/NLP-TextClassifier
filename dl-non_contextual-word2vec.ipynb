{
 "cells": [
  {
   "cell_type": "markdown",
   "metadata": {},
   "source": [
    "# Text Clasification with Non Contextual Word Embedding (Word2Vec) Deep Learning Algorithm "
   ]
  },
  {
   "cell_type": "code",
   "execution_count": 1,
   "metadata": {},
   "outputs": [],
   "source": [
    "import pandas as pd\n",
    "import numpy as np\n",
    "import nltk\n",
    "from nltk.corpus import stopwords\n",
    "import gensim\n",
    "from tensorflow import keras"
   ]
  },
  {
   "cell_type": "code",
   "execution_count": 2,
   "metadata": {},
   "outputs": [],
   "source": [
    "train_data = pd.read_csv(\"./data_worthcheck/train.csv\")\n",
    "test_data = pd.read_csv(\"./data_worthcheck/test.csv\")\n",
    "train_data[\"label\"] = train_data[\"label\"].map({'no': 0, 'yes':1})\n",
    "test_data[\"label\"] = test_data[\"label\"].map({'no': 0, 'yes':1})"
   ]
  },
  {
   "cell_type": "code",
   "execution_count": 3,
   "metadata": {},
   "outputs": [
    {
     "name": "stdout",
     "output_type": "stream",
     "text": [
      "TRAIN DATA\n",
      "NO:  15512\n",
      "YES:  6089\n",
      "NO + YES =  21601\n",
      "TOTAL:  21601\n"
     ]
    }
   ],
   "source": [
    "print(\"TRAIN DATA\")\n",
    "len_train_0 = len(train_data[train_data[\"label\"] == 0])\n",
    "len_train_1 = len(train_data[train_data[\"label\"] == 1])\n",
    "len_train = len(train_data)\n",
    "print(\"NO: \", len_train_0)\n",
    "print(\"YES: \", len_train_1)\n",
    "print(\"NO + YES = \", len_train_0 + len_train_1)\n",
    "print(\"TOTAL: \", len_train)"
   ]
  },
  {
   "cell_type": "code",
   "execution_count": 4,
   "metadata": {},
   "outputs": [
    {
     "name": "stdout",
     "output_type": "stream",
     "text": [
      "TEST DATA\n",
      "NO:  2093\n",
      "YES:  707\n",
      "NO + YES =  2800\n",
      "TOTAL:  2800\n"
     ]
    }
   ],
   "source": [
    "print(\"TEST DATA\")\n",
    "len_test_0 = len(test_data[test_data[\"label\"] == 0])\n",
    "len_test_1 = len(test_data[test_data[\"label\"] == 1])\n",
    "len_test = len(test_data)\n",
    "print(\"NO: \", len_test_0)\n",
    "print(\"YES: \", len_test_1)\n",
    "print(\"NO + YES = \", len_test_0 + len_test_1)\n",
    "print(\"TOTAL: \", len_test)"
   ]
  },
  {
   "cell_type": "markdown",
   "metadata": {},
   "source": [
    "## Data Preprocesing"
   ]
  },
  {
   "cell_type": "code",
   "execution_count": 5,
   "metadata": {},
   "outputs": [],
   "source": [
    "indonesian_stopwords = stopwords.words('indonesian')"
   ]
  },
  {
   "cell_type": "code",
   "execution_count": 6,
   "metadata": {},
   "outputs": [],
   "source": [
    "# Removing Stopwords and Tokenizing\n",
    "\n",
    "train_stop_removed = []\n",
    "test_stop_removed = []\n",
    "\n",
    "# Train\n",
    "for sentence in train_data[\"text_a\"]:\n",
    "    sentence_stop_removed = [word for word in sentence.split(\" \") if word not in indonesian_stopwords]\n",
    "    train_stop_removed.append(sentence_stop_removed)\n",
    "\n",
    "# Test\n",
    "for sentence in test_data[\"text_a\"]:\n",
    "    sentence_stop_removed = [word for word in sentence.split(\" \") if word not in indonesian_stopwords]\n",
    "    test_stop_removed.append(sentence_stop_removed)\n"
   ]
  },
  {
   "cell_type": "markdown",
   "metadata": {},
   "source": [
    "## Model"
   ]
  },
  {
   "cell_type": "code",
   "execution_count": 7,
   "metadata": {},
   "outputs": [],
   "source": [
    "# Word 2 Vector\n",
    "word2vec = gensim.models.Word2Vec(\n",
    "    train_stop_removed,\n",
    "    window=8,\n",
    "    min_count=3,\n",
    "    workers=3,\n",
    "    sg=1\n",
    ")\n"
   ]
  },
  {
   "cell_type": "code",
   "execution_count": 8,
   "metadata": {},
   "outputs": [],
   "source": [
    "# vectonizer\n",
    "def vectorize(tokenized, word2vec):\n",
    "    vectorized = []\n",
    "    for sentence in tokenized:\n",
    "        sent_vec = []\n",
    "        for w in sentence:\n",
    "            if w in word2vec.wv.key_to_index:\n",
    "                sent_vec.append(word2vec.wv[w])\n",
    "            else:\n",
    "                sent_vec.append(np.zeros(100))\n",
    "        vectorized.append(sent_vec)\n",
    "    return vectorized\n",
    "\n",
    "# padding\n",
    "def padder(vectorized, max_length):\n",
    "    padded = []\n",
    "    for i, v in enumerate(vectorized):\n",
    "        vec = []\n",
    "        if len(v) < max_length:\n",
    "            pad_count = max_length - len(v)\n",
    "            pad = np.zeros((pad_count, 100))\n",
    "            vec = np.append(v, pad, axis=0)\n",
    "        else:\n",
    "            vec = v[:max_length]\n",
    "        padded.append(vec)\n",
    "    return padded"
   ]
  },
  {
   "cell_type": "code",
   "execution_count": 9,
   "metadata": {},
   "outputs": [],
   "source": [
    "max_length = 50\n",
    "X_train = padder(vectorize(train_stop_removed, word2vec), max_length=max_length)\n",
    "X_train = np.array(X_train)"
   ]
  },
  {
   "cell_type": "code",
   "execution_count": 10,
   "metadata": {},
   "outputs": [],
   "source": [
    "max_length = 50\n",
    "\n",
    "# MODEL\n",
    "model = keras.Sequential([\n",
    "    keras.layers.LSTM(200, input_shape=(X_train.shape[1], X_train.shape[2]), return_sequences=True),\n",
    "    keras.layers.LSTM(100, activation='sigmoid', return_sequences=True),\n",
    "    keras.layers.Dropout(0.5),\n",
    "    keras.layers.LSTM(50, activation='sigmoid'),\n",
    "    keras.layers.Dropout(0.5),\n",
    "    keras.layers.Dense(1, activation='sigmoid')\n",
    "])"
   ]
  },
  {
   "cell_type": "code",
   "execution_count": 11,
   "metadata": {},
   "outputs": [],
   "source": [
    "# compile\n",
    "model.compile(\n",
    "    loss='binary_crossentropy',\n",
    "    optimizer='rmsprop',\n",
    "    metrics=['accuracy']\n",
    ")"
   ]
  },
  {
   "cell_type": "code",
   "execution_count": 12,
   "metadata": {},
   "outputs": [
    {
     "name": "stdout",
     "output_type": "stream",
     "text": [
      "676/676 [==============================] - 85s 119ms/step - loss: 0.4972 - accuracy: 0.7818\n"
     ]
    }
   ],
   "source": [
    "test = model.fit(X_train, train_data[\"label\"])"
   ]
  }
 ],
 "metadata": {
  "kernelspec": {
   "display_name": "Python 3.10.7 64-bit",
   "language": "python",
   "name": "python3"
  },
  "language_info": {
   "codemirror_mode": {
    "name": "ipython",
    "version": 3
   },
   "file_extension": ".py",
   "mimetype": "text/x-python",
   "name": "python",
   "nbconvert_exporter": "python",
   "pygments_lexer": "ipython3",
   "version": "3.10.7"
  },
  "orig_nbformat": 4,
  "vscode": {
   "interpreter": {
    "hash": "200e2a1a991d180c9c309c789f657d054eb1e69794afbc0e2ae3f183f1fccf4c"
   }
  }
 },
 "nbformat": 4,
 "nbformat_minor": 2
}
