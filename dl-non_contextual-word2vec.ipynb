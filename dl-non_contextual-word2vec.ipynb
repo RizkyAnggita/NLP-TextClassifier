{
 "cells": [
  {
   "cell_type": "markdown",
   "metadata": {},
   "source": [
    "# Text Clasification with Non Contextual Word Embedding (Word2Vec) Deep Learning Algorithm "
   ]
  },
  {
   "cell_type": "code",
   "execution_count": 171,
   "metadata": {},
   "outputs": [],
   "source": [
    "import pandas as pd\n",
    "import numpy as np\n",
    "import nltk\n",
    "from nltk.corpus import stopwords\n",
    "import gensim\n",
    "from sklearn.metrics import classification_report, accuracy_score\n",
    "from tensorflow import keras\n",
    "\n",
    "import warnings\n",
    "warnings.filterwarnings(\"ignore\")"
   ]
  },
  {
   "cell_type": "markdown",
   "metadata": {},
   "source": [
    "### Read Data"
   ]
  },
  {
   "cell_type": "code",
   "execution_count": 172,
   "metadata": {},
   "outputs": [],
   "source": [
    "train_data = pd.read_csv(\"./data_worthcheck/train.csv\")\n",
    "test_data = pd.read_csv(\"./data_worthcheck/test.csv\")\n",
    "train_data[\"label\"] = train_data[\"label\"].map({'no': 0, 'yes':1})\n",
    "test_data[\"label\"] = test_data[\"label\"].map({'no': 0, 'yes':1})"
   ]
  },
  {
   "cell_type": "markdown",
   "metadata": {},
   "source": [
    "## Data Preprocesing"
   ]
  },
  {
   "cell_type": "code",
   "execution_count": 173,
   "metadata": {},
   "outputs": [
    {
     "name": "stdout",
     "output_type": "stream",
     "text": [
      "TRAIN DATA\n",
      "NO:  15512\n",
      "YES:  6089\n",
      "NO + YES =  21601\n",
      "TOTAL:  21601\n"
     ]
    }
   ],
   "source": [
    "print(\"TRAIN DATA\")\n",
    "len_train_0 = len(train_data[train_data[\"label\"] == 0])\n",
    "len_train_1 = len(train_data[train_data[\"label\"] == 1])\n",
    "len_train = len(train_data)\n",
    "print(\"NO: \", len_train_0)\n",
    "print(\"YES: \", len_train_1)\n",
    "print(\"NO + YES = \", len_train_0 + len_train_1)\n",
    "print(\"TOTAL: \", len_train)"
   ]
  },
  {
   "cell_type": "code",
   "execution_count": 174,
   "metadata": {},
   "outputs": [
    {
     "name": "stdout",
     "output_type": "stream",
     "text": [
      "TEST DATA\n",
      "NO:  2093\n",
      "YES:  707\n",
      "NO + YES =  2800\n",
      "TOTAL:  2800\n"
     ]
    }
   ],
   "source": [
    "print(\"TEST DATA\")\n",
    "len_test_0 = len(test_data[test_data[\"label\"] == 0])\n",
    "len_test_1 = len(test_data[test_data[\"label\"] == 1])\n",
    "len_test = len(test_data)\n",
    "print(\"NO: \", len_test_0)\n",
    "print(\"YES: \", len_test_1)\n",
    "print(\"NO + YES = \", len_test_0 + len_test_1)\n",
    "print(\"TOTAL: \", len_test)"
   ]
  },
  {
   "cell_type": "code",
   "execution_count": 175,
   "metadata": {},
   "outputs": [],
   "source": [
    "# Get Indonesian Stopwords from nltk\n",
    "indonesian_stopwords = stopwords.words('indonesian')"
   ]
  },
  {
   "cell_type": "code",
   "execution_count": 176,
   "metadata": {},
   "outputs": [],
   "source": [
    "# Removing Stopwords and Tokenizing\n",
    "\n",
    "train_stop_removed = []\n",
    "test_stop_removed = []\n",
    "\n",
    "# Train\n",
    "for sentence in train_data[\"text_a\"]:\n",
    "    sentence_stop_removed = [word for word in sentence.split(\" \") if word not in indonesian_stopwords]\n",
    "    train_stop_removed.append(sentence_stop_removed)\n",
    "\n",
    "# Test\n",
    "for sentence in test_data[\"text_a\"]:\n",
    "    sentence_stop_removed = [word for word in sentence.split(\" \") if word not in indonesian_stopwords]\n",
    "    test_stop_removed.append(sentence_stop_removed)\n"
   ]
  },
  {
   "cell_type": "markdown",
   "metadata": {},
   "source": [
    "## Model"
   ]
  },
  {
   "cell_type": "markdown",
   "metadata": {},
   "source": [
    "### Word2Vec Model"
   ]
  },
  {
   "cell_type": "code",
   "execution_count": 177,
   "metadata": {},
   "outputs": [],
   "source": [
    "# Word 2 Vector\n",
    "word2vec = gensim.models.Word2Vec(\n",
    "    train_stop_removed,\n",
    "    window=8,\n",
    "    min_count=3,\n",
    "    workers=3,\n",
    "    sg=1\n",
    ")\n"
   ]
  },
  {
   "cell_type": "markdown",
   "metadata": {},
   "source": [
    "### Defining Functions for Vectorizing and Pading"
   ]
  },
  {
   "cell_type": "code",
   "execution_count": 178,
   "metadata": {},
   "outputs": [],
   "source": [
    "# vectonizer\n",
    "from cmath import exp\n",
    "\n",
    "\n",
    "def vectorize(tokenized, word2vec):\n",
    "    vectorized = []\n",
    "    for sentence in tokenized:\n",
    "        sent_vec = []\n",
    "        for w in sentence:\n",
    "            if w in word2vec.wv.key_to_index:\n",
    "                sent_vec.append(word2vec.wv[w])\n",
    "            else:\n",
    "                sent_vec.append(np.zeros(100))\n",
    "        vectorized.append(sent_vec)\n",
    "    return vectorized\n",
    "\n",
    "# padding\n",
    "def padder(vectorized, max_length):\n",
    "    padded = []\n",
    "    for i, v in enumerate(vectorized):\n",
    "        vec = []\n",
    "        if len(v) < max_length:\n",
    "            pad_count = max_length - len(v)\n",
    "            pad = np.zeros((pad_count, 100))\n",
    "            vec = np.append(v, pad, axis=0)\n",
    "        else:\n",
    "            vec = v[:max_length]\n",
    "        padded.append(vec)\n",
    "    return padded\n",
    "\n",
    "# result\n",
    "def class_assigner(x):\n",
    "    if x>0.25:\n",
    "        return 1\n",
    "    else:\n",
    "        return 0\n",
    "    "
   ]
  },
  {
   "cell_type": "markdown",
   "metadata": {},
   "source": [
    "### Vectorizing and Padding Train and Test Data"
   ]
  },
  {
   "cell_type": "code",
   "execution_count": 179,
   "metadata": {},
   "outputs": [],
   "source": [
    "max_length = 50\n",
    "X_train = padder(vectorize(train_stop_removed, word2vec), max_length=max_length)\n",
    "X_train = np.array(X_train)\n",
    "\n",
    "X_test = padder(vectorize(test_stop_removed, word2vec), max_length=max_length)\n",
    "X_test = np.array(X_test)\n",
    "\n",
    "y_test = np.array(test_data.label)"
   ]
  },
  {
   "cell_type": "markdown",
   "metadata": {},
   "source": [
    "## Experiment 1"
   ]
  },
  {
   "cell_type": "markdown",
   "metadata": {},
   "source": [
    "### Deep Learning Agent"
   ]
  },
  {
   "cell_type": "code",
   "execution_count": 180,
   "metadata": {},
   "outputs": [],
   "source": [
    "# MODEL\n",
    "model = keras.Sequential([\n",
    "    keras.layers.LSTM(200, input_shape=(X_train.shape[1], X_train.shape[2]), return_sequences=True),\n",
    "    keras.layers.LSTM(100, activation='sigmoid', return_sequences=True),\n",
    "    keras.layers.Dropout(0.5),\n",
    "    keras.layers.LSTM(50, activation='sigmoid'),\n",
    "])\n",
    "\n",
    "model.add(keras.layers.Dense(1, activation=keras.activations.sigmoid))"
   ]
  },
  {
   "cell_type": "code",
   "execution_count": 181,
   "metadata": {},
   "outputs": [],
   "source": [
    "# compile\n",
    "model.compile(\n",
    "    loss='binary_crossentropy',\n",
    "    optimizer='adam',\n",
    "    metrics=['accuracy']\n",
    ")"
   ]
  },
  {
   "cell_type": "code",
   "execution_count": 182,
   "metadata": {},
   "outputs": [
    {
     "name": "stdout",
     "output_type": "stream",
     "text": [
      "Model: \"sequential_12\"\n",
      "_________________________________________________________________\n",
      " Layer (type)                Output Shape              Param #   \n",
      "=================================================================\n",
      " lstm_36 (LSTM)              (None, 50, 200)           240800    \n",
      "                                                                 \n",
      " lstm_37 (LSTM)              (None, 50, 100)           120400    \n",
      "                                                                 \n",
      " dropout_18 (Dropout)        (None, 50, 100)           0         \n",
      "                                                                 \n",
      " lstm_38 (LSTM)              (None, 50)                30200     \n",
      "                                                                 \n",
      " dense_12 (Dense)            (None, 1)                 51        \n",
      "                                                                 \n",
      "=================================================================\n",
      "Total params: 391,451\n",
      "Trainable params: 391,451\n",
      "Non-trainable params: 0\n",
      "_________________________________________________________________\n"
     ]
    }
   ],
   "source": [
    "model.summary()"
   ]
  },
  {
   "cell_type": "markdown",
   "metadata": {},
   "source": [
    "### Training"
   ]
  },
  {
   "cell_type": "code",
   "execution_count": 183,
   "metadata": {},
   "outputs": [
    {
     "name": "stdout",
     "output_type": "stream",
     "text": [
      "676/676 [==============================] - 89s 126ms/step - loss: 0.5531 - accuracy: 0.7569\n"
     ]
    },
    {
     "data": {
      "text/plain": [
       "<keras.callbacks.History at 0x1f04c6dfb80>"
      ]
     },
     "execution_count": 183,
     "metadata": {},
     "output_type": "execute_result"
    }
   ],
   "source": [
    "model.fit(X_train, train_data[\"label\"])"
   ]
  },
  {
   "cell_type": "code",
   "execution_count": 184,
   "metadata": {},
   "outputs": [
    {
     "name": "stdout",
     "output_type": "stream",
     "text": [
      "88/88 [==============================] - 6s 60ms/step\n"
     ]
    }
   ],
   "source": [
    "y_pred = model.predict(X_test)\n",
    "for x in y_pred:\n",
    "    x[0] = class_assigner(x[0])\n"
   ]
  },
  {
   "cell_type": "code",
   "execution_count": 185,
   "metadata": {},
   "outputs": [
    {
     "name": "stdout",
     "output_type": "stream",
     "text": [
      "[[0.]\n",
      " [0.]\n",
      " [0.]\n",
      " ...\n",
      " [1.]\n",
      " [0.]\n",
      " [1.]]\n"
     ]
    }
   ],
   "source": [
    "print(y_pred)"
   ]
  },
  {
   "cell_type": "code",
   "execution_count": 186,
   "metadata": {},
   "outputs": [
    {
     "name": "stdout",
     "output_type": "stream",
     "text": [
      "Classification report: \n",
      "              precision    recall  f1-score   support\n",
      "\n",
      "          No       0.81      0.95      0.87      2093\n",
      "         Yes       0.70      0.33      0.45       707\n",
      "\n",
      "    accuracy                           0.80      2800\n",
      "   macro avg       0.76      0.64      0.66      2800\n",
      "weighted avg       0.78      0.80      0.77      2800\n",
      "\n"
     ]
    }
   ],
   "source": [
    "print(\"Classification report: \")\n",
    "print(classification_report(y_test, y_pred, target_names=['No', 'Yes']))"
   ]
  },
  {
   "cell_type": "markdown",
   "metadata": {},
   "source": [
    "## Experiment 2"
   ]
  },
  {
   "cell_type": "code",
   "execution_count": 187,
   "metadata": {},
   "outputs": [],
   "source": [
    "# Word 2 Vector\n",
    "word2vec = gensim.models.Word2Vec(\n",
    "    train_stop_removed,\n",
    "    window=10,\n",
    "    min_count=5,\n",
    "    workers=3,\n",
    "    sg=1\n",
    ")"
   ]
  },
  {
   "cell_type": "markdown",
   "metadata": {},
   "source": [
    "### Vectorizing and Padding Train and Test Data"
   ]
  },
  {
   "cell_type": "code",
   "execution_count": 188,
   "metadata": {},
   "outputs": [],
   "source": [
    "max_length = 100\n",
    "X_train = padder(vectorize(train_stop_removed, word2vec), max_length=max_length)\n",
    "X_train = np.array(X_train)\n",
    "\n",
    "X_test = padder(vectorize(test_stop_removed, word2vec), max_length=max_length)\n",
    "X_test = np.array(X_test)"
   ]
  },
  {
   "cell_type": "markdown",
   "metadata": {},
   "source": [
    "### Training"
   ]
  },
  {
   "cell_type": "code",
   "execution_count": 189,
   "metadata": {},
   "outputs": [
    {
     "name": "stdout",
     "output_type": "stream",
     "text": [
      "Model: \"sequential_13\"\n",
      "_________________________________________________________________\n",
      " Layer (type)                Output Shape              Param #   \n",
      "=================================================================\n",
      " lstm_39 (LSTM)              (None, 100, 200)          240800    \n",
      "                                                                 \n",
      " lstm_40 (LSTM)              (None, 100, 100)          120400    \n",
      "                                                                 \n",
      " dropout_19 (Dropout)        (None, 100, 100)          0         \n",
      "                                                                 \n",
      " lstm_41 (LSTM)              (None, 50)                30200     \n",
      "                                                                 \n",
      " dense_13 (Dense)            (None, 1)                 51        \n",
      "                                                                 \n",
      "=================================================================\n",
      "Total params: 391,451\n",
      "Trainable params: 391,451\n",
      "Non-trainable params: 0\n",
      "_________________________________________________________________\n"
     ]
    }
   ],
   "source": [
    "\n",
    "# MODEL\n",
    "model2 = keras.Sequential([\n",
    "    keras.layers.LSTM(200, input_shape=(X_train.shape[1], X_train.shape[2]), return_sequences=True),\n",
    "    keras.layers.LSTM(100, activation='sigmoid', return_sequences=True),\n",
    "    keras.layers.Dropout(0.5),\n",
    "    keras.layers.LSTM(50, activation='sigmoid'),\n",
    "])\n",
    "\n",
    "model2.add(keras.layers.Dense(1, activation=keras.activations.sigmoid))\n",
    "\n",
    "# compile\n",
    "model2.compile(\n",
    "    loss='binary_crossentropy',\n",
    "    optimizer='adam',\n",
    "    metrics=['accuracy']\n",
    ")\n",
    "\n",
    "model2.summary()"
   ]
  },
  {
   "cell_type": "code",
   "execution_count": 190,
   "metadata": {},
   "outputs": [
    {
     "name": "stdout",
     "output_type": "stream",
     "text": [
      "676/676 [==============================] - 178s 256ms/step - loss: 0.5969 - accuracy: 0.7180\n"
     ]
    },
    {
     "data": {
      "text/plain": [
       "<keras.callbacks.History at 0x1f0c0867fd0>"
      ]
     },
     "execution_count": 190,
     "metadata": {},
     "output_type": "execute_result"
    }
   ],
   "source": [
    "model2.fit(X_train, train_data[\"label\"])"
   ]
  },
  {
   "cell_type": "code",
   "execution_count": 191,
   "metadata": {},
   "outputs": [
    {
     "name": "stdout",
     "output_type": "stream",
     "text": [
      "88/88 [==============================] - 10s 109ms/step\n"
     ]
    }
   ],
   "source": [
    "y_pred = model2.predict(X_test)\n",
    "for x in y_pred:\n",
    "    x[0] = int(class_assigner(x[0]))\n"
   ]
  },
  {
   "cell_type": "code",
   "execution_count": 192,
   "metadata": {},
   "outputs": [
    {
     "name": "stdout",
     "output_type": "stream",
     "text": [
      "Classification report: \n",
      "              precision    recall  f1-score   support\n",
      "\n",
      "          No       0.00      0.00      0.00      2093\n",
      "         Yes       0.25      1.00      0.40       707\n",
      "\n",
      "    accuracy                           0.25      2800\n",
      "   macro avg       0.13      0.50      0.20      2800\n",
      "weighted avg       0.06      0.25      0.10      2800\n",
      "\n"
     ]
    }
   ],
   "source": [
    "print(\"Classification report: \")\n",
    "print(classification_report(y_test, y_pred, target_names=['No', 'Yes']))"
   ]
  }
 ],
 "metadata": {
  "kernelspec": {
   "display_name": "Python 3.10.7 64-bit",
   "language": "python",
   "name": "python3"
  },
  "language_info": {
   "codemirror_mode": {
    "name": "ipython",
    "version": 3
   },
   "file_extension": ".py",
   "mimetype": "text/x-python",
   "name": "python",
   "nbconvert_exporter": "python",
   "pygments_lexer": "ipython3",
   "version": "3.10.7"
  },
  "orig_nbformat": 4,
  "vscode": {
   "interpreter": {
    "hash": "200e2a1a991d180c9c309c789f657d054eb1e69794afbc0e2ae3f183f1fccf4c"
   }
  }
 },
 "nbformat": 4,
 "nbformat_minor": 2
}
