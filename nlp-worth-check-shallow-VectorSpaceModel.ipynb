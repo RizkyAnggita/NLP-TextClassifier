{
 "cells": [
  {
   "cell_type": "markdown",
   "id": "75d26971",
   "metadata": {
    "_cell_guid": "b1076dfc-b9ad-4769-8c92-a6c4dae69d19",
    "_uuid": "8f2839f25d086af736a60e9eeb907d3b93b6e0e5",
    "execution": {
     "iopub.execute_input": "2022-09-23T15:51:32.206389Z",
     "iopub.status.busy": "2022-09-23T15:51:32.205232Z",
     "iopub.status.idle": "2022-09-23T15:51:32.226752Z",
     "shell.execute_reply": "2022-09-23T15:51:32.225887Z"
    },
    "papermill": {
     "duration": 0.033983,
     "end_time": "2022-09-23T15:51:32.229487",
     "exception": false,
     "start_time": "2022-09-23T15:51:32.195504",
     "status": "completed"
    },
    "tags": []
   },
   "source": [
    "<h1> Text Classification with Shallow ML Algorithm (XGBOOST) using Vector Space Model (CountVectorizer) </h1>"
   ]
  },
  {
   "cell_type": "code",
   "execution_count": 35,
   "id": "68ccbc63",
   "metadata": {},
   "outputs": [],
   "source": [
    "import numpy as np # linear algebra\n",
    "import pandas as pd # data processing, CSV file I/O (e.g. pd.read_csv)"
   ]
  },
  {
   "cell_type": "code",
   "execution_count": 36,
   "id": "8e95addb",
   "metadata": {
    "execution": {
     "iopub.execute_input": "2022-09-23T15:51:32.245933Z",
     "iopub.status.busy": "2022-09-23T15:51:32.245255Z",
     "iopub.status.idle": "2022-09-23T15:51:32.359815Z",
     "shell.execute_reply": "2022-09-23T15:51:32.358881Z"
    },
    "papermill": {
     "duration": 0.124938,
     "end_time": "2022-09-23T15:51:32.362169",
     "exception": false,
     "start_time": "2022-09-23T15:51:32.237231",
     "status": "completed"
    },
    "tags": []
   },
   "outputs": [],
   "source": [
    "train_data = pd.read_csv(\"./data_worthcheck/train.csv\")\n",
    "test_data = pd.read_csv(\"./data_worthcheck/test.csv\")"
   ]
  },
  {
   "cell_type": "code",
   "execution_count": 37,
   "id": "53f384a8",
   "metadata": {
    "execution": {
     "iopub.execute_input": "2022-09-23T15:51:32.377712Z",
     "iopub.status.busy": "2022-09-23T15:51:32.377074Z",
     "iopub.status.idle": "2022-09-23T15:51:32.396436Z",
     "shell.execute_reply": "2022-09-23T15:51:32.395338Z"
    },
    "papermill": {
     "duration": 0.029881,
     "end_time": "2022-09-23T15:51:32.398967",
     "exception": false,
     "start_time": "2022-09-23T15:51:32.369086",
     "status": "completed"
    },
    "tags": []
   },
   "outputs": [],
   "source": [
    "train_data[\"label\"] = train_data[\"label\"].map({'no': 0, 'yes':1})\n",
    "test_data[\"label\"] = test_data[\"label\"].map({'no': 0, 'yes':1})"
   ]
  },
  {
   "cell_type": "code",
   "execution_count": 38,
   "id": "9723c29d",
   "metadata": {
    "execution": {
     "iopub.execute_input": "2022-09-23T15:51:32.414131Z",
     "iopub.status.busy": "2022-09-23T15:51:32.413744Z",
     "iopub.status.idle": "2022-09-23T15:51:32.425296Z",
     "shell.execute_reply": "2022-09-23T15:51:32.424050Z"
    },
    "papermill": {
     "duration": 0.021978,
     "end_time": "2022-09-23T15:51:32.427801",
     "exception": false,
     "start_time": "2022-09-23T15:51:32.405823",
     "status": "completed"
    },
    "tags": []
   },
   "outputs": [
    {
     "name": "stdout",
     "output_type": "stream",
     "text": [
      "TRAIN DATA\n",
      "NO:  15512\n",
      "YES:  6089\n",
      "NO + YES =  21601\n",
      "TOTAL:  21601\n"
     ]
    }
   ],
   "source": [
    "print(\"TRAIN DATA\")\n",
    "len_train_0 = len(train_data[train_data[\"label\"] == 0])\n",
    "len_train_1 = len(train_data[train_data[\"label\"] == 1])\n",
    "len_train = len(train_data)\n",
    "print(\"NO: \", len_train_0)\n",
    "print(\"YES: \", len_train_1)\n",
    "print(\"NO + YES = \", len_train_0 + len_train_1)\n",
    "print(\"TOTAL: \", len_train)"
   ]
  },
  {
   "cell_type": "code",
   "execution_count": 39,
   "id": "a19d4cc9",
   "metadata": {
    "execution": {
     "iopub.execute_input": "2022-09-23T15:51:32.443502Z",
     "iopub.status.busy": "2022-09-23T15:51:32.442589Z",
     "iopub.status.idle": "2022-09-23T15:51:32.452026Z",
     "shell.execute_reply": "2022-09-23T15:51:32.450645Z"
    },
    "papermill": {
     "duration": 0.019766,
     "end_time": "2022-09-23T15:51:32.454463",
     "exception": false,
     "start_time": "2022-09-23T15:51:32.434697",
     "status": "completed"
    },
    "tags": []
   },
   "outputs": [
    {
     "name": "stdout",
     "output_type": "stream",
     "text": [
      "TEST DATA\n",
      "NO:  2093\n",
      "YES:  707\n",
      "NO + YES =  2800\n",
      "TOTAL:  2800\n"
     ]
    }
   ],
   "source": [
    "print(\"TEST DATA\")\n",
    "len_test_0 = len(test_data[test_data[\"label\"] == 0])\n",
    "len_test_1 = len(test_data[test_data[\"label\"] == 1])\n",
    "len_test = len(test_data)\n",
    "print(\"NO: \", len_test_0)\n",
    "print(\"YES: \", len_test_1)\n",
    "print(\"NO + YES = \", len_test_0 + len_test_1)\n",
    "print(\"TOTAL: \", len_test)"
   ]
  },
  {
   "cell_type": "code",
   "execution_count": 40,
   "id": "275f251f",
   "metadata": {
    "execution": {
     "iopub.execute_input": "2022-09-23T15:51:32.469961Z",
     "iopub.status.busy": "2022-09-23T15:51:32.469526Z",
     "iopub.status.idle": "2022-09-23T15:51:32.490460Z",
     "shell.execute_reply": "2022-09-23T15:51:32.489346Z"
    },
    "papermill": {
     "duration": 0.03158,
     "end_time": "2022-09-23T15:51:32.492977",
     "exception": false,
     "start_time": "2022-09-23T15:51:32.461397",
     "status": "completed"
    },
    "tags": []
   },
   "outputs": [
    {
     "data": {
      "text/html": [
       "<div>\n",
       "<style scoped>\n",
       "    .dataframe tbody tr th:only-of-type {\n",
       "        vertical-align: middle;\n",
       "    }\n",
       "\n",
       "    .dataframe tbody tr th {\n",
       "        vertical-align: top;\n",
       "    }\n",
       "\n",
       "    .dataframe thead th {\n",
       "        text-align: right;\n",
       "    }\n",
       "</style>\n",
       "<table border=\"1\" class=\"dataframe\">\n",
       "  <thead>\n",
       "    <tr style=\"text-align: right;\">\n",
       "      <th></th>\n",
       "      <th>text_a</th>\n",
       "      <th>label</th>\n",
       "    </tr>\n",
       "  </thead>\n",
       "  <tbody>\n",
       "    <tr>\n",
       "      <th>0</th>\n",
       "      <td>jek dajal ga depok bang</td>\n",
       "      <td>0</td>\n",
       "    </tr>\n",
       "    <tr>\n",
       "      <th>1</th>\n",
       "      <td>detikcom untung depok masuk wilayah nya ridwan...</td>\n",
       "      <td>0</td>\n",
       "    </tr>\n",
       "    <tr>\n",
       "      <th>2</th>\n",
       "      <td>df dom jakarta depok yg gunain vc cabang nya c...</td>\n",
       "      <td>0</td>\n",
       "    </tr>\n",
       "    <tr>\n",
       "      <th>3</th>\n",
       "      <td>your2rl depok jkt</td>\n",
       "      <td>0</td>\n",
       "    </tr>\n",
       "    <tr>\n",
       "      <th>4</th>\n",
       "      <td>doakan indonesia selamat virus corona pkb depo...</td>\n",
       "      <td>1</td>\n",
       "    </tr>\n",
       "  </tbody>\n",
       "</table>\n",
       "</div>"
      ],
      "text/plain": [
       "                                              text_a  label\n",
       "0                            jek dajal ga depok bang      0\n",
       "1  detikcom untung depok masuk wilayah nya ridwan...      0\n",
       "2  df dom jakarta depok yg gunain vc cabang nya c...      0\n",
       "3                                  your2rl depok jkt      0\n",
       "4  doakan indonesia selamat virus corona pkb depo...      1"
      ]
     },
     "execution_count": 40,
     "metadata": {},
     "output_type": "execute_result"
    }
   ],
   "source": [
    "test_data.head()"
   ]
  },
  {
   "cell_type": "code",
   "execution_count": 41,
   "id": "db41a11e",
   "metadata": {
    "execution": {
     "iopub.execute_input": "2022-09-23T15:51:32.510797Z",
     "iopub.status.busy": "2022-09-23T15:51:32.510092Z",
     "iopub.status.idle": "2022-09-23T15:51:32.515559Z",
     "shell.execute_reply": "2022-09-23T15:51:32.514771Z"
    },
    "papermill": {
     "duration": 0.016435,
     "end_time": "2022-09-23T15:51:32.517613",
     "exception": false,
     "start_time": "2022-09-23T15:51:32.501178",
     "status": "completed"
    },
    "tags": []
   },
   "outputs": [],
   "source": [
    "train_data = train_data.iloc[:, 1:]"
   ]
  },
  {
   "cell_type": "code",
   "execution_count": 42,
   "id": "ea70b3df",
   "metadata": {
    "execution": {
     "iopub.execute_input": "2022-09-23T15:51:32.533547Z",
     "iopub.status.busy": "2022-09-23T15:51:32.532895Z",
     "iopub.status.idle": "2022-09-23T15:51:32.542177Z",
     "shell.execute_reply": "2022-09-23T15:51:32.541251Z"
    },
    "papermill": {
     "duration": 0.019672,
     "end_time": "2022-09-23T15:51:32.544325",
     "exception": false,
     "start_time": "2022-09-23T15:51:32.524653",
     "status": "completed"
    },
    "tags": []
   },
   "outputs": [
    {
     "data": {
      "text/html": [
       "<div>\n",
       "<style scoped>\n",
       "    .dataframe tbody tr th:only-of-type {\n",
       "        vertical-align: middle;\n",
       "    }\n",
       "\n",
       "    .dataframe tbody tr th {\n",
       "        vertical-align: top;\n",
       "    }\n",
       "\n",
       "    .dataframe thead th {\n",
       "        text-align: right;\n",
       "    }\n",
       "</style>\n",
       "<table border=\"1\" class=\"dataframe\">\n",
       "  <thead>\n",
       "    <tr style=\"text-align: right;\">\n",
       "      <th></th>\n",
       "      <th>text_a</th>\n",
       "      <th>label</th>\n",
       "    </tr>\n",
       "  </thead>\n",
       "  <tbody>\n",
       "    <tr>\n",
       "      <th>0</th>\n",
       "      <td>betewe buka twitter cuman ngetweet liat home b...</td>\n",
       "      <td>0</td>\n",
       "    </tr>\n",
       "    <tr>\n",
       "      <th>1</th>\n",
       "      <td>mas piyuuu mugo2 corona tuh mulut tersumpal ma...</td>\n",
       "      <td>0</td>\n",
       "    </tr>\n",
       "    <tr>\n",
       "      <th>2</th>\n",
       "      <td>e100ss gini buka informasi sejelas nya identit...</td>\n",
       "      <td>1</td>\n",
       "    </tr>\n",
       "    <tr>\n",
       "      <th>3</th>\n",
       "      <td>neng solo wes ono terduga corona cobo neng ati...</td>\n",
       "      <td>0</td>\n",
       "    </tr>\n",
       "    <tr>\n",
       "      <th>4</th>\n",
       "      <td>midiahn nii akun gak takut takut nya isu coron...</td>\n",
       "      <td>0</td>\n",
       "    </tr>\n",
       "  </tbody>\n",
       "</table>\n",
       "</div>"
      ],
      "text/plain": [
       "                                              text_a  label\n",
       "0  betewe buka twitter cuman ngetweet liat home b...      0\n",
       "1  mas piyuuu mugo2 corona tuh mulut tersumpal ma...      0\n",
       "2  e100ss gini buka informasi sejelas nya identit...      1\n",
       "3  neng solo wes ono terduga corona cobo neng ati...      0\n",
       "4  midiahn nii akun gak takut takut nya isu coron...      0"
      ]
     },
     "execution_count": 42,
     "metadata": {},
     "output_type": "execute_result"
    }
   ],
   "source": [
    "train_data.head()"
   ]
  },
  {
   "cell_type": "markdown",
   "id": "cb025d3e",
   "metadata": {
    "papermill": {
     "duration": 0.007804,
     "end_time": "2022-09-23T15:51:32.573237",
     "exception": false,
     "start_time": "2022-09-23T15:51:32.565433",
     "status": "completed"
    },
    "tags": []
   },
   "source": [
    "<h2> Preprocess </h2>"
   ]
  },
  {
   "cell_type": "code",
   "execution_count": 43,
   "id": "900d74ed",
   "metadata": {
    "execution": {
     "iopub.execute_input": "2022-09-23T15:51:32.589418Z",
     "iopub.status.busy": "2022-09-23T15:51:32.588771Z",
     "iopub.status.idle": "2022-09-23T15:51:34.055322Z",
     "shell.execute_reply": "2022-09-23T15:51:34.053995Z"
    },
    "papermill": {
     "duration": 1.47774,
     "end_time": "2022-09-23T15:51:34.057966",
     "exception": false,
     "start_time": "2022-09-23T15:51:32.580226",
     "status": "completed"
    },
    "tags": []
   },
   "outputs": [
    {
     "name": "stdout",
     "output_type": "stream",
     "text": [
      "\u001b[33mDEPRECATION: Configuring installation scheme with distutils config files is deprecated and will no longer work in the near future. If you are using a Homebrew or Linuxbrew Python, please see discussion at https://github.com/Homebrew/homebrew-core/issues/76621\u001b[0m\u001b[33m\n",
      "\u001b[0mRequirement already satisfied: nltk in /usr/local/lib/python3.9/site-packages (3.7)\n",
      "Requirement already satisfied: regex>=2021.8.3 in /usr/local/lib/python3.9/site-packages (from nltk) (2022.9.13)\n",
      "Requirement already satisfied: click in /usr/local/lib/python3.9/site-packages (from nltk) (8.1.3)\n",
      "Requirement already satisfied: joblib in /usr/local/lib/python3.9/site-packages (from nltk) (1.2.0)\n",
      "Requirement already satisfied: tqdm in /usr/local/lib/python3.9/site-packages (from nltk) (4.64.1)\n",
      "\u001b[33mDEPRECATION: Configuring installation scheme with distutils config files is deprecated and will no longer work in the near future. If you are using a Homebrew or Linuxbrew Python, please see discussion at https://github.com/Homebrew/homebrew-core/issues/76621\u001b[0m\u001b[33m\n",
      "\u001b[0m\u001b[33mWARNING: You are using pip version 22.0.4; however, version 22.2.2 is available.\n",
      "You should consider upgrading via the '/usr/local/opt/python@3.9/bin/python3.9 -m pip install --upgrade pip' command.\u001b[0m\u001b[33m\n",
      "\u001b[0m"
     ]
    }
   ],
   "source": [
    "! pip3 install nltk\n"
   ]
  },
  {
   "cell_type": "code",
   "execution_count": 44,
   "id": "e45ac3b5",
   "metadata": {},
   "outputs": [
    {
     "name": "stderr",
     "output_type": "stream",
     "text": [
      "[nltk_data] Downloading package stopwords to\n",
      "[nltk_data]     /Users/rizkyanggita/nltk_data...\n",
      "[nltk_data]   Package stopwords is already up-to-date!\n"
     ]
    }
   ],
   "source": [
    "import nltk\n",
    "nltk.download('stopwords')\n",
    "from nltk.corpus import stopwords"
   ]
  },
  {
   "cell_type": "code",
   "execution_count": 45,
   "id": "042b8b1f",
   "metadata": {
    "execution": {
     "iopub.execute_input": "2022-09-23T15:51:34.096686Z",
     "iopub.status.busy": "2022-09-23T15:51:34.095992Z",
     "iopub.status.idle": "2022-09-23T15:51:34.106197Z",
     "shell.execute_reply": "2022-09-23T15:51:34.105409Z"
    },
    "papermill": {
     "duration": 0.020749,
     "end_time": "2022-09-23T15:51:34.108421",
     "exception": false,
     "start_time": "2022-09-23T15:51:34.087672",
     "status": "completed"
    },
    "tags": []
   },
   "outputs": [],
   "source": [
    "indonesian_stopwords = stopwords.words('indonesian')"
   ]
  },
  {
   "cell_type": "code",
   "execution_count": 46,
   "id": "4e08f185",
   "metadata": {
    "execution": {
     "iopub.execute_input": "2022-09-23T15:51:34.124590Z",
     "iopub.status.busy": "2022-09-23T15:51:34.124179Z",
     "iopub.status.idle": "2022-09-23T15:51:39.091173Z",
     "shell.execute_reply": "2022-09-23T15:51:39.089790Z"
    },
    "papermill": {
     "duration": 4.977851,
     "end_time": "2022-09-23T15:51:39.093727",
     "exception": false,
     "start_time": "2022-09-23T15:51:34.115876",
     "status": "completed"
    },
    "tags": []
   },
   "outputs": [
    {
     "name": "stdout",
     "output_type": "stream",
     "text": [
      "START\n",
      "FINISHED\n"
     ]
    }
   ],
   "source": [
    "print(\"START\")\n",
    "train_stop_removed = []\n",
    "test_stop_removed = []\n",
    "\n",
    "for sentence in train_data[\"text_a\"]:\n",
    "    sentence_stop_removed = [word for word in sentence.split(\" \") if word not in indonesian_stopwords]\n",
    "    sentence_stop_removed = \" \".join(sentence_stop_removed)\n",
    "    train_stop_removed.append(sentence_stop_removed)\n",
    "\n",
    "for sentence in test_data[\"text_a\"]:\n",
    "    sentence_stop_removed = [word for word in sentence.split(\" \") if word not in indonesian_stopwords]\n",
    "    sentence_stop_removed = \" \".join(sentence_stop_removed)\n",
    "    test_stop_removed.append(sentence_stop_removed)\n",
    "\n",
    "print(\"FINISHED\")"
   ]
  },
  {
   "cell_type": "code",
   "execution_count": 47,
   "id": "08227659",
   "metadata": {
    "execution": {
     "iopub.execute_input": "2022-09-23T15:51:39.110090Z",
     "iopub.status.busy": "2022-09-23T15:51:39.109700Z",
     "iopub.status.idle": "2022-09-23T15:51:39.118275Z",
     "shell.execute_reply": "2022-09-23T15:51:39.117314Z"
    },
    "papermill": {
     "duration": 0.019462,
     "end_time": "2022-09-23T15:51:39.120527",
     "exception": false,
     "start_time": "2022-09-23T15:51:39.101065",
     "status": "completed"
    },
    "tags": []
   },
   "outputs": [],
   "source": [
    "train_data[\"text_a\"] = train_stop_removed\n",
    "test_data[\"text_a\"] = test_stop_removed"
   ]
  },
  {
   "cell_type": "code",
   "execution_count": 48,
   "id": "46ab94a1",
   "metadata": {
    "execution": {
     "iopub.execute_input": "2022-09-23T15:51:39.137422Z",
     "iopub.status.busy": "2022-09-23T15:51:39.136340Z",
     "iopub.status.idle": "2022-09-23T15:51:39.141480Z",
     "shell.execute_reply": "2022-09-23T15:51:39.140654Z"
    },
    "papermill": {
     "duration": 0.015798,
     "end_time": "2022-09-23T15:51:39.143698",
     "exception": false,
     "start_time": "2022-09-23T15:51:39.127900",
     "status": "completed"
    },
    "tags": []
   },
   "outputs": [],
   "source": [
    "from sklearn.feature_extraction.text import CountVectorizer"
   ]
  },
  {
   "cell_type": "code",
   "execution_count": 49,
   "id": "094c3552",
   "metadata": {
    "execution": {
     "iopub.execute_input": "2022-09-23T15:51:39.160349Z",
     "iopub.status.busy": "2022-09-23T15:51:39.159594Z",
     "iopub.status.idle": "2022-09-23T15:51:39.164492Z",
     "shell.execute_reply": "2022-09-23T15:51:39.163622Z"
    },
    "papermill": {
     "duration": 0.015807,
     "end_time": "2022-09-23T15:51:39.166751",
     "exception": false,
     "start_time": "2022-09-23T15:51:39.150944",
     "status": "completed"
    },
    "tags": []
   },
   "outputs": [
    {
     "data": {
      "text/plain": [
       "CountVectorizer()"
      ]
     },
     "execution_count": 49,
     "metadata": {},
     "output_type": "execute_result"
    }
   ],
   "source": [
    "cv = CountVectorizer()\n",
    "cv.fit(train_data[\"text_a\"])"
   ]
  },
  {
   "cell_type": "code",
   "execution_count": 50,
   "id": "b0719ad5",
   "metadata": {
    "execution": {
     "iopub.execute_input": "2022-09-23T15:51:39.688541Z",
     "iopub.status.busy": "2022-09-23T15:51:39.688152Z",
     "iopub.status.idle": "2022-09-23T15:51:40.096130Z",
     "shell.execute_reply": "2022-09-23T15:51:40.094992Z"
    },
    "papermill": {
     "duration": 0.419156,
     "end_time": "2022-09-23T15:51:40.098794",
     "exception": false,
     "start_time": "2022-09-23T15:51:39.679638",
     "status": "completed"
    },
    "tags": []
   },
   "outputs": [],
   "source": [
    "train_data_vector = cv.transform(train_data[\"text_a\"])\n",
    "test_data_vector = cv.transform(test_data[\"text_a\"])"
   ]
  },
  {
   "cell_type": "markdown",
   "id": "c3de2e32",
   "metadata": {
    "execution": {
     "iopub.execute_input": "2022-09-23T15:51:40.138791Z",
     "iopub.status.busy": "2022-09-23T15:51:40.138408Z",
     "iopub.status.idle": "2022-09-23T15:51:40.142240Z",
     "shell.execute_reply": "2022-09-23T15:51:40.141183Z"
    },
    "papermill": {
     "duration": 0.014533,
     "end_time": "2022-09-23T15:51:40.144351",
     "exception": false,
     "start_time": "2022-09-23T15:51:40.129818",
     "status": "completed"
    },
    "tags": []
   },
   "source": [
    "<h2> Training </h2>"
   ]
  },
  {
   "cell_type": "code",
   "execution_count": 51,
   "id": "e9d70a5d",
   "metadata": {
    "execution": {
     "iopub.execute_input": "2022-09-23T15:51:40.160732Z",
     "iopub.status.busy": "2022-09-23T15:51:40.160044Z",
     "iopub.status.idle": "2022-09-23T15:51:40.247723Z",
     "shell.execute_reply": "2022-09-23T15:51:40.246818Z"
    },
    "papermill": {
     "duration": 0.09859,
     "end_time": "2022-09-23T15:51:40.250276",
     "exception": false,
     "start_time": "2022-09-23T15:51:40.151686",
     "status": "completed"
    },
    "tags": []
   },
   "outputs": [
    {
     "name": "stdout",
     "output_type": "stream",
     "text": [
      "\u001b[33mDEPRECATION: Configuring installation scheme with distutils config files is deprecated and will no longer work in the near future. If you are using a Homebrew or Linuxbrew Python, please see discussion at https://github.com/Homebrew/homebrew-core/issues/76621\u001b[0m\u001b[33m\n",
      "\u001b[0mRequirement already satisfied: xgboost in /usr/local/lib/python3.9/site-packages (1.6.2)\n",
      "Requirement already satisfied: scipy in /usr/local/lib/python3.9/site-packages (from xgboost) (1.9.1)\n",
      "Requirement already satisfied: numpy in /usr/local/lib/python3.9/site-packages (from xgboost) (1.23.3)\n",
      "\u001b[33mDEPRECATION: Configuring installation scheme with distutils config files is deprecated and will no longer work in the near future. If you are using a Homebrew or Linuxbrew Python, please see discussion at https://github.com/Homebrew/homebrew-core/issues/76621\u001b[0m\u001b[33m\n",
      "\u001b[0m\u001b[33mWARNING: You are using pip version 22.0.4; however, version 22.2.2 is available.\n",
      "You should consider upgrading via the '/usr/local/opt/python@3.9/bin/python3.9 -m pip install --upgrade pip' command.\u001b[0m\u001b[33m\n",
      "\u001b[0m"
     ]
    }
   ],
   "source": [
    "! pip3 install xgboost\n",
    "from xgboost import XGBClassifier"
   ]
  },
  {
   "cell_type": "code",
   "execution_count": 52,
   "id": "53eeef17",
   "metadata": {
    "execution": {
     "iopub.execute_input": "2022-09-23T15:51:40.266551Z",
     "iopub.status.busy": "2022-09-23T15:51:40.266175Z",
     "iopub.status.idle": "2022-09-23T15:51:43.145230Z",
     "shell.execute_reply": "2022-09-23T15:51:43.143974Z"
    },
    "papermill": {
     "duration": 2.88984,
     "end_time": "2022-09-23T15:51:43.147559",
     "exception": false,
     "start_time": "2022-09-23T15:51:40.257719",
     "status": "completed"
    },
    "tags": []
   },
   "outputs": [
    {
     "data": {
      "text/plain": [
       "XGBClassifier(base_score=0.5, booster='gbtree', callbacks=None,\n",
       "              colsample_bylevel=1, colsample_bynode=1, colsample_bytree=1,\n",
       "              early_stopping_rounds=None, enable_categorical=False,\n",
       "              eval_metric=None, gamma=0, gpu_id=-1, grow_policy='depthwise',\n",
       "              importance_type=None, interaction_constraints='',\n",
       "              learning_rate=0.300000012, max_bin=256, max_cat_to_onehot=4,\n",
       "              max_delta_step=0, max_depth=6, max_leaves=0, min_child_weight=1,\n",
       "              missing=nan, monotone_constraints='()', n_estimators=100,\n",
       "              n_jobs=0, num_parallel_tree=1, predictor='auto', random_state=0,\n",
       "              reg_alpha=0, reg_lambda=1, ...)"
      ]
     },
     "execution_count": 52,
     "metadata": {},
     "output_type": "execute_result"
    }
   ],
   "source": [
    "xgb = XGBClassifier()\n",
    "xgb.fit(train_data_vector, train_data[\"label\"])"
   ]
  },
  {
   "cell_type": "code",
   "execution_count": 53,
   "id": "6f9f9f46",
   "metadata": {
    "execution": {
     "iopub.execute_input": "2022-09-23T15:51:43.164625Z",
     "iopub.status.busy": "2022-09-23T15:51:43.164001Z",
     "iopub.status.idle": "2022-09-23T15:51:43.186538Z",
     "shell.execute_reply": "2022-09-23T15:51:43.185617Z"
    },
    "papermill": {
     "duration": 0.034051,
     "end_time": "2022-09-23T15:51:43.189237",
     "exception": false,
     "start_time": "2022-09-23T15:51:43.155186",
     "status": "completed"
    },
    "tags": []
   },
   "outputs": [],
   "source": [
    "y_pred = xgb.predict(test_data_vector)\n",
    "y_pred_rounded = [round(value) for value in y_pred]"
   ]
  },
  {
   "cell_type": "code",
   "execution_count": 54,
   "id": "0a156bd0",
   "metadata": {
    "execution": {
     "iopub.execute_input": "2022-09-23T15:51:43.230964Z",
     "iopub.status.busy": "2022-09-23T15:51:43.230606Z",
     "iopub.status.idle": "2022-09-23T15:51:43.234939Z",
     "shell.execute_reply": "2022-09-23T15:51:43.233836Z"
    },
    "papermill": {
     "duration": 0.015411,
     "end_time": "2022-09-23T15:51:43.237008",
     "exception": false,
     "start_time": "2022-09-23T15:51:43.221597",
     "status": "completed"
    },
    "tags": []
   },
   "outputs": [],
   "source": [
    "from sklearn.metrics import f1_score, accuracy_score"
   ]
  },
  {
   "cell_type": "code",
   "execution_count": 55,
   "id": "214e5d3f",
   "metadata": {
    "execution": {
     "iopub.execute_input": "2022-09-23T15:51:43.253882Z",
     "iopub.status.busy": "2022-09-23T15:51:43.253258Z",
     "iopub.status.idle": "2022-09-23T15:51:43.264421Z",
     "shell.execute_reply": "2022-09-23T15:51:43.262949Z"
    },
    "papermill": {
     "duration": 0.022357,
     "end_time": "2022-09-23T15:51:43.266830",
     "exception": false,
     "start_time": "2022-09-23T15:51:43.244473",
     "status": "completed"
    },
    "tags": []
   },
   "outputs": [
    {
     "name": "stdout",
     "output_type": "stream",
     "text": [
      "Accuracy:  0.835\n",
      "F1 Score:  0.6188118811881188\n"
     ]
    }
   ],
   "source": [
    "print(\"Accuracy: \", accuracy_score(test_data[\"label\"], y_pred_rounded))\n",
    "print(\"F1 Score: \", f1_score(test_data[\"label\"], y_pred_rounded))"
   ]
  }
 ],
 "metadata": {
  "kernelspec": {
   "display_name": "Python 3 (ipykernel)",
   "language": "python",
   "name": "python3"
  },
  "language_info": {
   "codemirror_mode": {
    "name": "ipython",
    "version": 3
   },
   "file_extension": ".py",
   "mimetype": "text/x-python",
   "name": "python",
   "nbconvert_exporter": "python",
   "pygments_lexer": "ipython3",
   "version": "3.9.12"
  },
  "papermill": {
   "default_parameters": {},
   "duration": 20.309522,
   "end_time": "2022-09-23T15:51:43.995272",
   "environment_variables": {},
   "exception": null,
   "input_path": "__notebook__.ipynb",
   "output_path": "__notebook__.ipynb",
   "parameters": {},
   "start_time": "2022-09-23T15:51:23.685750",
   "version": "2.3.4"
  }
 },
 "nbformat": 4,
 "nbformat_minor": 5
}
